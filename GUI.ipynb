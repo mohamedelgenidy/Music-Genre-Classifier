{
 "cells": [
  {
   "cell_type": "code",
   "execution_count": 1,
   "metadata": {},
   "outputs": [
    {
     "name": "stdout",
     "output_type": "stream",
     "text": [
      "Requirement already satisfied: pandas in c:\\users\\dell\\appdata\\local\\programs\\python\\python310\\lib\\site-packages (2.0.3)\n",
      "Requirement already satisfied: scikit-learn in c:\\users\\dell\\appdata\\local\\programs\\python\\python310\\lib\\site-packages (1.3.0)\n",
      "Requirement already satisfied: tk in c:\\users\\dell\\appdata\\local\\programs\\python\\python310\\lib\\site-packages (0.1.0)\n",
      "Requirement already satisfied: python-dateutil>=2.8.2 in c:\\users\\dell\\appdata\\roaming\\python\\python310\\site-packages (from pandas) (2.8.2)\n",
      "Requirement already satisfied: tzdata>=2022.1 in c:\\users\\dell\\appdata\\local\\programs\\python\\python310\\lib\\site-packages (from pandas) (2023.3)\n",
      "Requirement already satisfied: pytz>=2020.1 in c:\\users\\dell\\appdata\\local\\programs\\python\\python310\\lib\\site-packages (from pandas) (2023.3)\n",
      "Requirement already satisfied: numpy>=1.21.0 in c:\\users\\dell\\appdata\\local\\programs\\python\\python310\\lib\\site-packages (from pandas) (1.25.1)\n",
      "Requirement already satisfied: threadpoolctl>=2.0.0 in c:\\users\\dell\\appdata\\local\\programs\\python\\python310\\lib\\site-packages (from scikit-learn) (3.2.0)\n",
      "Requirement already satisfied: joblib>=1.1.1 in c:\\users\\dell\\appdata\\local\\programs\\python\\python310\\lib\\site-packages (from scikit-learn) (1.3.1)\n",
      "Requirement already satisfied: scipy>=1.5.0 in c:\\users\\dell\\appdata\\local\\programs\\python\\python310\\lib\\site-packages (from scikit-learn) (1.11.1)\n",
      "Requirement already satisfied: six>=1.5 in c:\\users\\dell\\appdata\\roaming\\python\\python310\\site-packages (from python-dateutil>=2.8.2->pandas) (1.16.0)\n",
      "Note: you may need to restart the kernel to use updated packages.\n"
     ]
    },
    {
     "name": "stderr",
     "output_type": "stream",
     "text": [
      "WARNING: You are using pip version 22.0.4; however, version 23.2.1 is available.\n",
      "You should consider upgrading via the 'c:\\Users\\dell\\AppData\\Local\\Programs\\Python\\Python310\\python.exe -m pip install --upgrade pip' command.\n"
     ]
    }
   ],
   "source": [
    "%pip install pandas scikit-learn tk"
   ]
  },
  {
   "cell_type": "code",
   "execution_count": 1,
   "metadata": {},
   "outputs": [
    {
     "name": "stderr",
     "output_type": "stream",
     "text": [
      "c:\\Users\\dell\\AppData\\Local\\Programs\\Python\\Python310\\lib\\site-packages\\sklearn\\base.py:464: UserWarning: X does not have valid feature names, but DecisionTreeClassifier was fitted with feature names\n",
      "  warnings.warn(\n"
     ]
    }
   ],
   "source": [
    "import pandas as pd\n",
    "import tkinter as tk\n",
    "from tkinter import messagebox\n",
    "from sklearn.tree import DecisionTreeClassifier\n",
    "from sklearn.model_selection import train_test_split\n",
    "\n",
    "# Load and prepare the data (replace 'music.csv' with your dataset file)\n",
    "music_data = pd.read_csv('music.csv')\n",
    "X = music_data.drop(columns=['genre'])\n",
    "y = music_data['genre']\n",
    "X_train,X_test,y_train,y_test = train_test_split(X,y,train_size=0.7,shuffle=True)\n",
    "\n",
    "# Create and train the model\n",
    "model = DecisionTreeClassifier()\n",
    "model.fit(X_train , y_train)\n",
    "\n",
    "# Function to predict the genre based on age and gender choice\n",
    "def predict_genre():\n",
    "    age = int(age_entry.get())\n",
    "    gender = int(gender_choice.get())\n",
    "    prediction = model.predict([[age, gender]])\n",
    "    genre_label.config(text=f\"Predicted Genre: {prediction[0]}\")\n",
    "\n",
    "# Create the GUI\n",
    "root = tk.Tk()\n",
    "root.geometry(\"450x350\")\n",
    "root.title(\"Music Genre Predictor\")\n",
    "\n",
    "# Age input\n",
    "age_label = tk.Label(root, text=\"Enter Age:\")\n",
    "age_label.pack()\n",
    "age_entry = tk.Entry(root)\n",
    "age_entry.pack()\n",
    "\n",
    "# Gender choice\n",
    "gender_label = tk.Label(root, text=\"Choose Gender (0 for woman, 1 for man):\")\n",
    "gender_label.pack()\n",
    "gender_choice = tk.StringVar()\n",
    "gender_choice.set(\"1\")  # Default choice is man\n",
    "gender_radio_1 = tk.Radiobutton(root, text=\"Woman\", variable=gender_choice, value=\"0\")\n",
    "gender_radio_1.pack()\n",
    "gender_radio_2 = tk.Radiobutton(root, text=\"Man\", variable=gender_choice, value=\"1\")\n",
    "gender_radio_2.pack()\n",
    "\n",
    "# Predict button\n",
    "predict_button = tk.Button(root, text=\"Predict Genre\", command=predict_genre)\n",
    "predict_button.pack()\n",
    "\n",
    "# Genre prediction label\n",
    "genre_label = tk.Label(root, text=\"\")\n",
    "genre_label.pack()\n",
    "\n",
    "# Run the GUI main loop\n",
    "root.mainloop()\n"
   ]
  }
 ],
 "metadata": {
  "kernelspec": {
   "display_name": "Python 3",
   "language": "python",
   "name": "python3"
  },
  "language_info": {
   "codemirror_mode": {
    "name": "ipython",
    "version": 3
   },
   "file_extension": ".py",
   "mimetype": "text/x-python",
   "name": "python",
   "nbconvert_exporter": "python",
   "pygments_lexer": "ipython3",
   "version": "3.10.4"
  },
  "orig_nbformat": 4
 },
 "nbformat": 4,
 "nbformat_minor": 2
}
